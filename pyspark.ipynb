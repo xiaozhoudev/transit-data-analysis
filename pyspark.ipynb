{
 "cells": [
  {
   "cell_type": "code",
   "execution_count": 1,
   "id": "6ede8511-5d90-40df-9874-085690a604b2",
   "metadata": {},
   "outputs": [],
   "source": [
    "import pandas as pd\n",
    "from pymongo import MongoClient\n",
    "from pyspark.sql import SparkSession\n",
    "from pyspark.sql.types import *"
   ]
  },
  {
   "cell_type": "code",
   "execution_count": 2,
   "id": "bfd10113-32ef-4f7b-bfd6-4f63b9c4bcba",
   "metadata": {},
   "outputs": [],
   "source": [
    "MONGO_URI = \"mongodb://my-mongo-db:27017/\""
   ]
  },
  {
   "cell_type": "code",
   "execution_count": 3,
   "id": "6aa3287b-4e8a-4cbe-97e2-a14abc8eb7ff",
   "metadata": {},
   "outputs": [],
   "source": [
    "def get_mongo_data_to_pandas(db_name, collection_name):\n",
    "    \"\"\"\n",
    "    Connects to MongoDB, fetches all documents from a collection,\n",
    "    and returns them as a Pandas DataFrame.\n",
    "\n",
    "    Args:\n",
    "        db_name (str): The name of the database to connect to.\n",
    "        collection_name (str): The name of the collection to read from.\n",
    "\n",
    "    Returns:\n",
    "        pandas.DataFrame: A DataFrame containing the data from the collection,\n",
    "                          or None if an error occurs.\n",
    "    \"\"\"\n",
    "    print(f\"Connecting to MongoDB at {MONGO_URI}...\")\n",
    "    try:\n",
    "        # Establish a connection to the MongoDB server\n",
    "        client = MongoClient(MONGO_URI)\n",
    "        db = client[db_name]\n",
    "        collection = db[collection_name]\n",
    "\n",
    "        print(f\"Fetching data from '{db_name}.{collection_name}'...\")\n",
    "        # Fetch all documents from the collection\n",
    "        cursor = collection.find()\n",
    "\n",
    "        # Convert the cursor to a list of dictionaries\n",
    "        data_list = list(cursor)\n",
    "\n",
    "        # close the connection\n",
    "        client.close()\n",
    "\n",
    "        if not data_list:\n",
    "            print(\"Warning: No data found in the collection.\")\n",
    "            return pd.DataFrame() # Return an empty DataFrame\n",
    "\n",
    "        # Create a Pandas DataFrame from the list of dictionaries\n",
    "        # The '_id' column from MongoDB is  dropped as it's not needed for analysis.\n",
    "        df = pd.DataFrame(data_list).drop(columns=['_id'], errors='ignore')\n",
    "        print(\"Successfully loaded data into Pandas DataFrame.\")\n",
    "        return df\n",
    "\n",
    "    except Exception as e:\n",
    "        print(f\"An error occurred while connecting to MongoDB: {e}\")\n",
    "        return None"
   ]
  },
  {
   "cell_type": "code",
   "execution_count": 4,
   "id": "3152e4ed-f002-42f6-8ff5-0c18c061c54e",
   "metadata": {},
   "outputs": [
    {
     "name": "stdout",
     "output_type": "stream",
     "text": [
      "Connecting to MongoDB at mongodb://my-mongo-db:27017/...\n",
      "Fetching data from 'ny_transit_data.ridership'...\n",
      "Successfully loaded data into Pandas DataFrame.\n"
     ]
    }
   ],
   "source": [
    "DB_NAME = \"ny_transit_data\"\n",
    "COLLECTION_NAME = \"ridership\"\n",
    "pandas_df = get_mongo_data_to_pandas(DB_NAME, COLLECTION_NAME)"
   ]
  },
  {
   "cell_type": "code",
   "execution_count": 5,
   "id": "f7a7e096-9c34-4705-9f79-c7dc9d64df50",
   "metadata": {},
   "outputs": [
    {
     "name": "stdout",
     "output_type": "stream",
     "text": [
      "\n",
      "--- Pandas DataFrame Head ---\n",
      "         transit_timestamp transit_mode station_complex_id  \\\n",
      "0  2024-12-01T00:00:00.000         tram              TRAM2   \n",
      "1  2024-12-01T00:00:00.000         tram              TRAM1   \n",
      "2  2024-12-01T00:00:00.000         tram              TRAM1   \n",
      "3  2024-12-01T00:00:00.000         tram              TRAM2   \n",
      "4  2024-12-01T00:00:00.000         tram              TRAM1   \n",
      "\n",
      "          station_complex    borough payment_method  \\\n",
      "0  RI Tramway (Roosevelt)  Manhattan      metrocard   \n",
      "1  RI Tramway (Manhattan)  Manhattan      metrocard   \n",
      "2  RI Tramway (Manhattan)  Manhattan      metrocard   \n",
      "3  RI Tramway (Roosevelt)  Manhattan      metrocard   \n",
      "4  RI Tramway (Manhattan)  Manhattan           omny   \n",
      "\n",
      "                fare_class_category ridership transfers   latitude  longitude  \\\n",
      "0             Metrocard - Full Fare       6.0       0.0   40.75734  -73.95412   \n",
      "1             Metrocard - Full Fare       8.0       3.0  40.761337  -73.96416   \n",
      "2       Metrocard - Unlimited 7-Day       4.0       0.0  40.761337  -73.96416   \n",
      "3  Metrocard - Seniors & Disability       1.0       0.0   40.75734  -73.95412   \n",
      "4                  OMNY - Full Fare      21.0       3.0  40.761337  -73.96416   \n",
      "\n",
      "                                        georeference  \n",
      "0  {'type': 'Point', 'coordinates': [-73.95412, 4...  \n",
      "1  {'type': 'Point', 'coordinates': [-73.96416, 4...  \n",
      "2  {'type': 'Point', 'coordinates': [-73.96416, 4...  \n",
      "3  {'type': 'Point', 'coordinates': [-73.95412, 4...  \n",
      "4  {'type': 'Point', 'coordinates': [-73.96416, 4...  \n",
      "\n",
      "--- Pandas DataFrame Info ---\n",
      "<class 'pandas.core.frame.DataFrame'>\n",
      "RangeIndex: 2446236 entries, 0 to 2446235\n",
      "Data columns (total 12 columns):\n",
      " #   Column               Dtype \n",
      "---  ------               ----- \n",
      " 0   transit_timestamp    object\n",
      " 1   transit_mode         object\n",
      " 2   station_complex_id   object\n",
      " 3   station_complex      object\n",
      " 4   borough              object\n",
      " 5   payment_method       object\n",
      " 6   fare_class_category  object\n",
      " 7   ridership            object\n",
      " 8   transfers            object\n",
      " 9   latitude             object\n",
      " 10  longitude            object\n",
      " 11  georeference         object\n",
      "dtypes: object(12)\n",
      "memory usage: 224.0+ MB\n"
     ]
    }
   ],
   "source": [
    "print(\"\\n--- Pandas DataFrame Head ---\")\n",
    "print(pandas_df.head())\n",
    "print(\"\\n--- Pandas DataFrame Info ---\")\n",
    "pandas_df.info()"
   ]
  },
  {
   "cell_type": "code",
   "execution_count": 6,
   "id": "c7ab03fc-7005-48c7-b270-4ecfc9d02522",
   "metadata": {},
   "outputs": [
    {
     "name": "stdout",
     "output_type": "stream",
     "text": [
      "\n",
      "Initializing SparkSession...\n",
      "SparkSession initialized successfully.\n"
     ]
    },
    {
     "data": {
      "text/html": [
       "\n",
       "            <div>\n",
       "                <p><b>SparkSession - in-memory</b></p>\n",
       "                \n",
       "        <div>\n",
       "            <p><b>SparkContext</b></p>\n",
       "\n",
       "            <p><a href=\"http://spark-notebook:4040\">Spark UI</a></p>\n",
       "\n",
       "            <dl>\n",
       "              <dt>Version</dt>\n",
       "                <dd><code>v3.5.0</code></dd>\n",
       "              <dt>Master</dt>\n",
       "                <dd><code>local[*]</code></dd>\n",
       "              <dt>AppName</dt>\n",
       "                <dd><code>MongoToSpark</code></dd>\n",
       "            </dl>\n",
       "        </div>\n",
       "        \n",
       "            </div>\n",
       "        "
      ],
      "text/plain": [
       "<pyspark.sql.session.SparkSession at 0xffff50952d90>"
      ]
     },
     "execution_count": 6,
     "metadata": {},
     "output_type": "execute_result"
    }
   ],
   "source": [
    "print(\"\\nInitializing SparkSession...\")\n",
    "try:\n",
    "    spark = SparkSession.builder \\\n",
    "        .appName(\"MongoToSpark\") \\\n",
    "        .config(\"spark.driver.memory\", \"16g\") \\\n",
    "        .getOrCreate()\n",
    "    print(\"SparkSession initialized successfully.\")\n",
    "except Exception as e:\n",
    "    print(f\"Failed to initialize SparkSession: {e}\")\n",
    "spark"
   ]
  },
  {
   "cell_type": "code",
   "execution_count": 7,
   "id": "455c4cdd-e760-4bbf-b2be-f182b9d1762d",
   "metadata": {},
   "outputs": [
    {
     "name": "stdout",
     "output_type": "stream",
     "text": [
      "Conversion successful!\n",
      "\n",
      "--- Spark DataFrame (Top 20 Rows) ---\n",
      "+--------------------+------------+------------------+--------------------+---------+--------------+--------------------+---------+---------+---------+----------+--------------------+\n",
      "|   transit_timestamp|transit_mode|station_complex_id|     station_complex|  borough|payment_method| fare_class_category|ridership|transfers| latitude| longitude|        georeference|\n",
      "+--------------------+------------+------------------+--------------------+---------+--------------+--------------------+---------+---------+---------+----------+--------------------+\n",
      "|2024-12-01T00:00:...|        tram|             TRAM2|RI Tramway (Roose...|Manhattan|     metrocard|Metrocard - Full ...|      6.0|      0.0| 40.75734| -73.95412|{coordinates -> [...|\n",
      "|2024-12-01T00:00:...|        tram|             TRAM1|RI Tramway (Manha...|Manhattan|     metrocard|Metrocard - Full ...|      8.0|      3.0|40.761337| -73.96416|{coordinates -> [...|\n",
      "|2024-12-01T00:00:...|        tram|             TRAM1|RI Tramway (Manha...|Manhattan|     metrocard|Metrocard - Unlim...|      4.0|      0.0|40.761337| -73.96416|{coordinates -> [...|\n",
      "|2024-12-01T00:00:...|        tram|             TRAM2|RI Tramway (Roose...|Manhattan|     metrocard|Metrocard - Senio...|      1.0|      0.0| 40.75734| -73.95412|{coordinates -> [...|\n",
      "|2024-12-01T00:00:...|        tram|             TRAM1|RI Tramway (Manha...|Manhattan|          omny|    OMNY - Full Fare|     21.0|      3.0|40.761337| -73.96416|{coordinates -> [...|\n",
      "|2024-12-01T00:00:...|        tram|             TRAM1|RI Tramway (Manha...|Manhattan|     metrocard|Metrocard - Unlim...|      1.0|      0.0|40.761337| -73.96416|{coordinates -> [...|\n",
      "|2024-12-01T00:00:...|        tram|             TRAM2|RI Tramway (Roose...|Manhattan|          omny|    OMNY - Full Fare|     22.0|      9.0| 40.75734| -73.95412|{coordinates -> [...|\n",
      "|2024-12-01T00:00:...|        tram|             TRAM2|RI Tramway (Roose...|Manhattan|     metrocard|   Metrocard - Other|      2.0|      0.0| 40.75734| -73.95412|{coordinates -> [...|\n",
      "|2024-12-01T00:00:...|        tram|             TRAM2|RI Tramway (Roose...|Manhattan|     metrocard|Metrocard - Unlim...|      1.0|      0.0| 40.75734| -73.95412|{coordinates -> [...|\n",
      "|2024-12-01T00:00:...|      subway|               627|   Franklin Av (C,S)| Brooklyn|          omny|    OMNY - Full Fare|     15.0|      0.0| 40.68138| -73.95685|{coordinates -> [...|\n",
      "|2024-12-01T00:00:...|      subway|               427|West Farms Sq-E T...|    Bronx|          omny|    OMNY - Full Fare|      7.0|      1.0|40.840294| -73.88005|{coordinates -> [...|\n",
      "|2024-12-01T00:00:...|      subway|               240|          7 Av (F,G)| Brooklyn|          omny|    OMNY - Full Fare|     29.0|      0.0| 40.66627| -73.98031|{coordinates -> [...|\n",
      "|2024-12-01T00:00:...|      subway|               430|    Simpson St (2,5)|    Bronx|     metrocard|Metrocard - Full ...|      3.0|      0.0|40.824074| -73.89307|{coordinates -> [...|\n",
      "|2024-12-01T00:00:...|      subway|                68|        Bay Pkwy (D)| Brooklyn|     metrocard|Metrocard - Full ...|      4.0|      0.0|40.601875| -73.99373|{coordinates -> [...|\n",
      "|2024-12-01T00:00:...|      subway|               188|     Euclid Av (A,C)| Brooklyn|          omny|    OMNY - Full Fare|      5.0|      2.0|40.675377| -73.87211|{coordinates -> [...|\n",
      "|2024-12-01T00:00:...|      subway|                20|     City Hall (R,W)|Manhattan|     metrocard|Metrocard - Full ...|      1.0|      0.0|40.713284| -74.00698|{coordinates -> [...|\n",
      "|2024-12-01T00:00:...|      subway|               187|     Shepherd Av (C)| Brooklyn|          omny|     OMNY - Students|      2.0|      0.0| 40.67413| -73.88075|{coordinates -> [...|\n",
      "|2024-12-01T00:00:...|      subway|               627|   Franklin Av (C,S)| Brooklyn|          omny|     OMNY - Students|      1.0|      0.0| 40.68138| -73.95685|{coordinates -> [...|\n",
      "|2024-12-01T00:00:...|      subway|               114|      Central Av (M)| Brooklyn|     metrocard|Metrocard - Unlim...|      2.0|      0.0|40.697857|  -73.9274|{coordinates -> [...|\n",
      "|2024-12-01T00:00:...|      subway|               169|    Canal St (A,C,E)|Manhattan|          omny|     OMNY - Students|      4.0|      0.0|40.720825|-74.005226|{coordinates -> [...|\n",
      "+--------------------+------------+------------------+--------------------+---------+--------------+--------------------+---------+---------+---------+----------+--------------------+\n",
      "only showing top 20 rows\n",
      "\n",
      "\n",
      "--- Spark DataFrame Schema ---\n",
      "root\n",
      " |-- transit_timestamp: string (nullable = true)\n",
      " |-- transit_mode: string (nullable = true)\n",
      " |-- station_complex_id: string (nullable = true)\n",
      " |-- station_complex: string (nullable = true)\n",
      " |-- borough: string (nullable = true)\n",
      " |-- payment_method: string (nullable = true)\n",
      " |-- fare_class_category: string (nullable = true)\n",
      " |-- ridership: string (nullable = true)\n",
      " |-- transfers: string (nullable = true)\n",
      " |-- latitude: string (nullable = true)\n",
      " |-- longitude: string (nullable = true)\n",
      " |-- georeference: map (nullable = true)\n",
      " |    |-- key: string\n",
      " |    |-- value: string (valueContainsNull = true)\n",
      "\n"
     ]
    }
   ],
   "source": [
    "spark_df = spark.createDataFrame(pandas_df)\n",
    "\n",
    "print(\"Conversion successful!\")\n",
    "\n",
    "# --- Step 4: Show results from Spark DataFrame ---\n",
    "print(\"\\n--- Spark DataFrame (Top 20 Rows) ---\")\n",
    "spark_df.show()\n",
    "\n",
    "print(\"\\n--- Spark DataFrame Schema ---\")\n",
    "spark_df.printSchema()"
   ]
  },
  {
   "cell_type": "code",
   "execution_count": null,
   "id": "3ae26116-f49c-4f68-ba4a-9e5d041e4665",
   "metadata": {},
   "outputs": [],
   "source": []
  }
 ],
 "metadata": {
  "kernelspec": {
   "display_name": "Python 3 (ipykernel)",
   "language": "python",
   "name": "python3"
  },
  "language_info": {
   "codemirror_mode": {
    "name": "ipython",
    "version": 3
   },
   "file_extension": ".py",
   "mimetype": "text/x-python",
   "name": "python",
   "nbconvert_exporter": "python",
   "pygments_lexer": "ipython3",
   "version": "3.11.6"
  }
 },
 "nbformat": 4,
 "nbformat_minor": 5
}
